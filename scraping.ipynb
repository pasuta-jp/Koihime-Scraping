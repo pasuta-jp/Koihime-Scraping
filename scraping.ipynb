{
 "cells": [
  {
   "cell_type": "code",
   "execution_count": 1,
   "metadata": {},
   "outputs": [],
   "source": [
    "from selenium.webdriver.common.by import By\n",
    "from selenium import webdriver\n",
    "from selenium.webdriver.common.keys import Keys\n",
    "from selenium.webdriver.chrome import service as fs\n",
    "from time import sleep\n",
    "from bottle import route, run, template, redirect, request"
   ]
  },
  {
   "cell_type": "code",
   "execution_count": 7,
   "metadata": {},
   "outputs": [
    {
     "data": {
      "text/plain": [
       "('真・恋姫†英雄譚５',\n",
       " '「週替りTwitterキャンペーン」第10弾は徐晃役「藤咲ウサ」さん！',\n",
       " '2023.1.27',\n",
       " 'http://baseson.nexton-net.jp/koihime-portal/img/news/140.jpg')"
      ]
     },
     "execution_count": 7,
     "metadata": {},
     "output_type": "execute_result"
    }
   ],
   "source": [
    "def scraping():\n",
    "    CHROMEDRIVER = r'C:\\Users\\Akama\\Desktop\\Engineering\\Python\\chrome_driver\\chromedriver.exe'\n",
    "    chrome_service = fs.Service(executable_path=CHROMEDRIVER)\n",
    "    driver = webdriver.Chrome(service=chrome_service)\n",
    "    driver.get('http://baseson.nexton-net.jp/koihime-portal/')\n",
    "    title = driver.find_element(By.CSS_SELECTOR, 'section#information > ul > li:first-child > a.link-motion.b-box > div.box01 > div.text.b-box > h4')\n",
    "    element = driver.find_element(By.CSS_SELECTOR, 'section#information > ul > li:first-child > a.link-motion.b-box > div.box01 > div.text.b-box > p')\n",
    "    date = driver.find_element(By.CSS_SELECTOR, 'section#information > ul > li:first-child > a.link-motion.b-box > div.box02.b-box > p:first-child')\n",
    "    image = driver.find_element(By.CSS_SELECTOR, 'section#information > ul > li:first-child > a.link-motion.b-box > div.box01 > div.image > img')\n",
    "    image_src = image.get_attribute('src')\n",
    "    return title.text, element.text, date.text, image_src"
   ]
  },
  {
   "cell_type": "code",
   "execution_count": 9,
   "metadata": {},
   "outputs": [],
   "source": [
    "x = scraping()"
   ]
  },
  {
   "cell_type": "code",
   "execution_count": 11,
   "metadata": {},
   "outputs": [
    {
     "name": "stdout",
     "output_type": "stream",
     "text": [
      "「週替りTwitterキャンペーン」第10弾は徐晃役「藤咲ウサ」さん！\n"
     ]
    }
   ],
   "source": [
    "print(x[1])"
   ]
  }
 ],
 "metadata": {
  "kernelspec": {
   "display_name": "Py39",
   "language": "python",
   "name": "python3"
  },
  "language_info": {
   "codemirror_mode": {
    "name": "ipython",
    "version": 3
   },
   "file_extension": ".py",
   "mimetype": "text/x-python",
   "name": "python",
   "nbconvert_exporter": "python",
   "pygments_lexer": "ipython3",
   "version": "3.9.12 (main, Apr  4 2022, 05:22:27) [MSC v.1916 64 bit (AMD64)]"
  },
  "orig_nbformat": 4,
  "vscode": {
   "interpreter": {
    "hash": "8fe55e71cc25ce1439785d9f6fd694fb600f1589ef2ccf6cc72bc09351564fa4"
   }
  }
 },
 "nbformat": 4,
 "nbformat_minor": 2
}
